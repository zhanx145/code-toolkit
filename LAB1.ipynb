{
 "cells": [
  {
   "cell_type": "code",
   "execution_count": 1,
   "metadata": {},
   "outputs": [],
   "source": [
    "\n",
    "%matplotlib inline\n",
    "import matplotlib.pyplot as plt\n",
    "import pandas as pd\n",
    "import numpy as np\n",
    "import seaborn as sns"
   ]
  },
  {
   "cell_type": "code",
   "execution_count": 2,
   "metadata": {},
   "outputs": [],
   "source": [
    "df = pd.read_csv('sqf-2017.csv')"
   ]
  },
  {
   "cell_type": "code",
   "execution_count": 229,
   "metadata": {},
   "outputs": [],
   "source": [
    "#df.info()\n"
   ]
  },
  {
   "cell_type": "code",
   "execution_count": 4,
   "metadata": {},
   "outputs": [
    {
     "data": {
      "text/html": [
       "<div>\n",
       "<style scoped>\n",
       "    .dataframe tbody tr th:only-of-type {\n",
       "        vertical-align: middle;\n",
       "    }\n",
       "\n",
       "    .dataframe tbody tr th {\n",
       "        vertical-align: top;\n",
       "    }\n",
       "\n",
       "    .dataframe thead th {\n",
       "        text-align: right;\n",
       "    }\n",
       "</style>\n",
       "<table border=\"1\" class=\"dataframe\">\n",
       "  <thead>\n",
       "    <tr style=\"text-align: right;\">\n",
       "      <th></th>\n",
       "      <th>STOP_FRISK_ID</th>\n",
       "      <th>STOP_FRISK_DATE</th>\n",
       "      <th>STOP_FRISK_TIME</th>\n",
       "      <th>YEAR2</th>\n",
       "      <th>MONTH2</th>\n",
       "      <th>DAY2</th>\n",
       "      <th>STOP_WAS_INITIATED</th>\n",
       "      <th>SPRINT_NUMBER</th>\n",
       "      <th>RECORD_STATUS_CODE</th>\n",
       "      <th>ISSUING_OFFICER_RANK</th>\n",
       "      <th>...</th>\n",
       "      <th>STOP_LOCATION_SECTOR_CODE</th>\n",
       "      <th>STOP_LOCATION_APARTMENT</th>\n",
       "      <th>STOP_LOCATION_FULL_ADDRESS</th>\n",
       "      <th>STOP_LOCATION_PREMISES_NAME</th>\n",
       "      <th>STOP_LOCATION_STREET_NAME</th>\n",
       "      <th>STOP_LOCATION_X</th>\n",
       "      <th>STOP_LOCATION_Y</th>\n",
       "      <th>STOP_LOCATION_ZIP_CODE</th>\n",
       "      <th>STOP_LOCATION_PATROL_BORO_NAME</th>\n",
       "      <th>STOP_LOCATION_BORO_NAME</th>\n",
       "    </tr>\n",
       "  </thead>\n",
       "  <tbody>\n",
       "    <tr>\n",
       "      <th>0</th>\n",
       "      <td>1</td>\n",
       "      <td>1/16/2017</td>\n",
       "      <td>14:26:00</td>\n",
       "      <td>2017</td>\n",
       "      <td>January</td>\n",
       "      <td>Monday</td>\n",
       "      <td>Based on Self Initiated</td>\n",
       "      <td>11617924</td>\n",
       "      <td>APP</td>\n",
       "      <td>SGT</td>\n",
       "      <td>...</td>\n",
       "      <td>(null)</td>\n",
       "      <td>(null)</td>\n",
       "      <td>180 GREENWICH STREET</td>\n",
       "      <td>(null)</td>\n",
       "      <td>GREENWICH STREET</td>\n",
       "      <td>982381</td>\n",
       "      <td>201750</td>\n",
       "      <td>(null)</td>\n",
       "      <td>PBMS</td>\n",
       "      <td>MANHATTAN</td>\n",
       "    </tr>\n",
       "    <tr>\n",
       "      <th>1</th>\n",
       "      <td>2</td>\n",
       "      <td>1/16/2017</td>\n",
       "      <td>14:26:00</td>\n",
       "      <td>2017</td>\n",
       "      <td>January</td>\n",
       "      <td>Monday</td>\n",
       "      <td>Based on Self Initiated</td>\n",
       "      <td>11617924</td>\n",
       "      <td>APP</td>\n",
       "      <td>SGT</td>\n",
       "      <td>...</td>\n",
       "      <td>(null)</td>\n",
       "      <td>(null)</td>\n",
       "      <td>180 GREENWICH STREET</td>\n",
       "      <td>(null)</td>\n",
       "      <td>GREENWICH STREET</td>\n",
       "      <td>982381</td>\n",
       "      <td>201750</td>\n",
       "      <td>(null)</td>\n",
       "      <td>PBMS</td>\n",
       "      <td>MANHATTAN</td>\n",
       "    </tr>\n",
       "    <tr>\n",
       "      <th>2</th>\n",
       "      <td>3</td>\n",
       "      <td>2/8/2017</td>\n",
       "      <td>11:10:00</td>\n",
       "      <td>2017</td>\n",
       "      <td>February</td>\n",
       "      <td>Wednesday</td>\n",
       "      <td>Based on C/W on Scene</td>\n",
       "      <td>17020808555</td>\n",
       "      <td>APP</td>\n",
       "      <td>POM</td>\n",
       "      <td>...</td>\n",
       "      <td>C</td>\n",
       "      <td>(null)</td>\n",
       "      <td>WALL STREET &amp;&amp; BROADWAY</td>\n",
       "      <td>(null)</td>\n",
       "      <td>WALL STREET</td>\n",
       "      <td>981005</td>\n",
       "      <td>197131</td>\n",
       "      <td>(null)</td>\n",
       "      <td>PBMS</td>\n",
       "      <td>MANHATTAN</td>\n",
       "    </tr>\n",
       "    <tr>\n",
       "      <th>3</th>\n",
       "      <td>4</td>\n",
       "      <td>2/20/2017</td>\n",
       "      <td>11:35:00</td>\n",
       "      <td>2017</td>\n",
       "      <td>February</td>\n",
       "      <td>Monday</td>\n",
       "      <td>Based on Self Initiated</td>\n",
       "      <td>9027</td>\n",
       "      <td>APP</td>\n",
       "      <td>POM</td>\n",
       "      <td>...</td>\n",
       "      <td>H</td>\n",
       "      <td>(null)</td>\n",
       "      <td>75 GREENE STREET</td>\n",
       "      <td>(null)</td>\n",
       "      <td>GREENE STREET</td>\n",
       "      <td>984031</td>\n",
       "      <td>202796</td>\n",
       "      <td>(null)</td>\n",
       "      <td>PBMS</td>\n",
       "      <td>MANHATTAN</td>\n",
       "    </tr>\n",
       "    <tr>\n",
       "      <th>4</th>\n",
       "      <td>5</td>\n",
       "      <td>2/21/2017</td>\n",
       "      <td>13:20:00</td>\n",
       "      <td>2017</td>\n",
       "      <td>February</td>\n",
       "      <td>Tuesday</td>\n",
       "      <td>Based on Radio Run</td>\n",
       "      <td>10439</td>\n",
       "      <td>APP</td>\n",
       "      <td>POM</td>\n",
       "      <td>...</td>\n",
       "      <td>H</td>\n",
       "      <td>2</td>\n",
       "      <td>429 WEST BROADWAY</td>\n",
       "      <td>(null)</td>\n",
       "      <td>WEST BROADWAY</td>\n",
       "      <td>983894</td>\n",
       "      <td>203523</td>\n",
       "      <td>(null)</td>\n",
       "      <td>PBMS</td>\n",
       "      <td>MANHATTAN</td>\n",
       "    </tr>\n",
       "  </tbody>\n",
       "</table>\n",
       "<p>5 rows × 86 columns</p>\n",
       "</div>"
      ],
      "text/plain": [
       "   STOP_FRISK_ID STOP_FRISK_DATE STOP_FRISK_TIME  YEAR2    MONTH2       DAY2  \\\n",
       "0              1       1/16/2017        14:26:00   2017   January     Monday   \n",
       "1              2       1/16/2017        14:26:00   2017   January     Monday   \n",
       "2              3        2/8/2017        11:10:00   2017  February  Wednesday   \n",
       "3              4       2/20/2017        11:35:00   2017  February     Monday   \n",
       "4              5       2/21/2017        13:20:00   2017  February    Tuesday   \n",
       "\n",
       "        STOP_WAS_INITIATED SPRINT_NUMBER RECORD_STATUS_CODE  \\\n",
       "0  Based on Self Initiated      11617924                APP   \n",
       "1  Based on Self Initiated      11617924                APP   \n",
       "2    Based on C/W on Scene   17020808555                APP   \n",
       "3  Based on Self Initiated          9027                APP   \n",
       "4       Based on Radio Run         10439                APP   \n",
       "\n",
       "  ISSUING_OFFICER_RANK           ...             STOP_LOCATION_SECTOR_CODE  \\\n",
       "0                  SGT           ...                                (null)   \n",
       "1                  SGT           ...                                (null)   \n",
       "2                  POM           ...                                     C   \n",
       "3                  POM           ...                                     H   \n",
       "4                  POM           ...                                     H   \n",
       "\n",
       "  STOP_LOCATION_APARTMENT  STOP_LOCATION_FULL_ADDRESS  \\\n",
       "0                  (null)        180 GREENWICH STREET   \n",
       "1                  (null)        180 GREENWICH STREET   \n",
       "2                  (null)     WALL STREET && BROADWAY   \n",
       "3                  (null)            75 GREENE STREET   \n",
       "4                       2           429 WEST BROADWAY   \n",
       "\n",
       "  STOP_LOCATION_PREMISES_NAME STOP_LOCATION_STREET_NAME STOP_LOCATION_X  \\\n",
       "0                      (null)          GREENWICH STREET          982381   \n",
       "1                      (null)          GREENWICH STREET          982381   \n",
       "2                      (null)               WALL STREET          981005   \n",
       "3                      (null)             GREENE STREET          984031   \n",
       "4                      (null)             WEST BROADWAY          983894   \n",
       "\n",
       "  STOP_LOCATION_Y  STOP_LOCATION_ZIP_CODE STOP_LOCATION_PATROL_BORO_NAME  \\\n",
       "0          201750                  (null)                           PBMS   \n",
       "1          201750                  (null)                           PBMS   \n",
       "2          197131                  (null)                           PBMS   \n",
       "3          202796                  (null)                           PBMS   \n",
       "4          203523                  (null)                           PBMS   \n",
       "\n",
       "   STOP_LOCATION_BORO_NAME  \n",
       "0                MANHATTAN  \n",
       "1                MANHATTAN  \n",
       "2                MANHATTAN  \n",
       "3                MANHATTAN  \n",
       "4                MANHATTAN  \n",
       "\n",
       "[5 rows x 86 columns]"
      ]
     },
     "execution_count": 4,
     "metadata": {},
     "output_type": "execute_result"
    }
   ],
   "source": [
    "df.head()"
   ]
  },
  {
   "cell_type": "markdown",
   "metadata": {},
   "source": [
    "1.Explore the data based on the race feature. Determine how many individuals from each reported category were frisked citywide, and then per each borough."
   ]
  },
  {
   "cell_type": "code",
   "execution_count": 20,
   "metadata": {},
   "outputs": [
    {
     "data": {
      "text/plain": [
       "<matplotlib.axes._subplots.AxesSubplot at 0x1102bd9e8>"
      ]
     },
     "execution_count": 20,
     "metadata": {},
     "output_type": "execute_result"
    },
    {
     "data": {
      "image/png": "[encoded data removed]",
      "text/plain": [
       "<Figure size 720x360 with 1 Axes>"
      ]
     },
     "metadata": {},
     "output_type": "display_data"
    }
   ],
   "source": [
    "df.groupby(['SUSPECT_RACE_DESCRIPTION','FRISKED_FLAG'])['FRISKED_FLAG'].count().plot(kind = 'bar', color = 'blue', title = 'Count of Frisks by Borough', figsize = (10, 5))"
   ]
  },
  {
   "cell_type": "code",
   "execution_count": 17,
   "metadata": {},
   "outputs": [
    {
     "data": {
      "text/plain": [
       "SUSPECT_RACE_DESCRIPTION  STOP_LOCATION_BORO_NAME  FRISKED_FLAG\n",
       "(null)                    (null)                   N                 1\n",
       "                                                   Y                 4\n",
       "                          BRONX                    N                14\n",
       "                                                   Y                29\n",
       "                          BROOKLYN                 N                40\n",
       "                                                   Y                35\n",
       "                          MANHATTAN                N                27\n",
       "                                                   Y                21\n",
       "                          QUEENS                   N                31\n",
       "                                                   Y                52\n",
       "                          STATEN IS                N                 5\n",
       "                                                   Y                 9\n",
       "AMER IND                  MANHATTAN                N                 4\n",
       "                          QUEENS                   N                 1\n",
       "                                                   Y                 3\n",
       "                          STATEN IS                N                 1\n",
       "ASIAN/PAC.ISL             (null)                   N                 2\n",
       "                                                   Y                 1\n",
       "                          BRONX                    N                 5\n",
       "                                                   Y                 7\n",
       "                          BROOKLYN                 N                12\n",
       "                                                   Y                16\n",
       "                          MANHATTAN                N                21\n",
       "                                                   Y                11\n",
       "                          QUEENS                   N                61\n",
       "                                                   Y                66\n",
       "                          STATEN IS                N                 3\n",
       "                                                   Y                 1\n",
       "BLACK                     (null)                   N                68\n",
       "                                                   Y               188\n",
       "                                                                  ... \n",
       "WHITE                     (null)                   Y                 2\n",
       "                          155070                   N                 1\n",
       "                          BRONX                    N                27\n",
       "                                                   Y                38\n",
       "                          BROOKLYN                 N               184\n",
       "                                                   Y               135\n",
       "                          MANHATTAN                N               133\n",
       "                                                   Y               107\n",
       "                          QUEENS                   N                98\n",
       "                                                   Y               113\n",
       "                          STATEN IS                N                66\n",
       "                                                   Y                68\n",
       "WHITE HISPANIC            (null)                   N                30\n",
       "                                                   Y                62\n",
       "                          190241                   N                 1\n",
       "                          208169                   Y                 1\n",
       "                          208760                   N                 1\n",
       "                          986759                   N                 1\n",
       "                          BRONX                    N               187\n",
       "                                                   Y               497\n",
       "                          BROOKLYN                 N               246\n",
       "                                                   Y               241\n",
       "                          MANHATTAN                N               269\n",
       "                                                   Y               442\n",
       "                          PBBS                     N                 1\n",
       "                          PBBX                     N                 1\n",
       "                          QUEENS                   N               220\n",
       "                                                   Y               300\n",
       "                          STATEN IS                N                36\n",
       "                                                   Y                34\n",
       "Name: FRISKED_FLAG, Length: 98, dtype: int64"
      ]
     },
     "execution_count": 17,
     "metadata": {},
     "output_type": "execute_result"
    }
   ],
   "source": [
    "\n",
    "df.groupby(['SUSPECT_RACE_DESCRIPTION','STOP_LOCATION_BORO_NAME','FRISKED_FLAG'])['FRISKED_FLAG'].count()"
   ]
  },
  {
   "cell_type": "markdown",
   "metadata": {},
   "source": [
    "2: Explore the STOP_DURATION_MINUTES feature. Remove any outliers, and describe the distribution of values including a visualization."
   ]
  },
  {
   "cell_type": "code",
   "execution_count": 21,
   "metadata": {},
   "outputs": [
    {
     "data": {
      "text/plain": [
       "SUSPECT_RACE_DESCRIPTION\n",
       "(null)             268\n",
       "AMER IND             9\n",
       "ASIAN/PAC.ISL      206\n",
       "BLACK             6595\n",
       "BLACK HISPANIC     997\n",
       "MALE                 7\n",
       "WHITE              977\n",
       "WHITE HISPANIC    2570\n",
       "Name: STOP_DURATION_MINUTES, dtype: int64"
      ]
     },
     "execution_count": 21,
     "metadata": {},
     "output_type": "execute_result"
    }
   ],
   "source": [
    "df.groupby('SUSPECT_RACE_DESCRIPTION')['STOP_DURATION_MINUTES'].count()"
   ]
  },
  {
   "cell_type": "code",
   "execution_count": 70,
   "metadata": {},
   "outputs": [
    {
     "data": {
      "text/plain": [
       "<matplotlib.axes._subplots.AxesSubplot at 0x1a1f927f60>"
      ]
     },
     "execution_count": 70,
     "metadata": {},
     "output_type": "execute_result"
    },
    {
     "data": {
      "image/png": "[encoded data removed]",
      "text/plain": [
       "<Figure size 720x360 with 1 Axes>"
      ]
     },
     "metadata": {},
     "output_type": "display_data"
    }
   ],
   "source": [
    "df.groupby('SUSPECT_RACE_DESCRIPTION')['STOP_DURATION_MINUTES'].count().plot(kind = 'bar', color = 'blue', title = 'Total Stop Duration by Race', figsize = (10, 5))"
   ]
  },
  {
   "cell_type": "code",
   "execution_count": 50,
   "metadata": {},
   "outputs": [],
   "source": []
  },
  {
   "cell_type": "code",
   "execution_count": null,
   "metadata": {},
   "outputs": [],
   "source": []
  },
  {
   "cell_type": "code",
   "execution_count": 23,
   "metadata": {},
   "outputs": [],
   "source": [
    "duration=df['STOP_DURATION_MINUTES']"
   ]
  },
  {
   "cell_type": "code",
   "execution_count": null,
   "metadata": {},
   "outputs": [],
   "source": []
  },
  {
   "cell_type": "code",
   "execution_count": 25,
   "metadata": {},
   "outputs": [
    {
     "data": {
      "text/plain": [
       "count    11629.000000\n",
       "mean        11.938602\n",
       "std         26.264021\n",
       "min          0.000000\n",
       "25%          5.000000\n",
       "50%          7.000000\n",
       "75%         12.000000\n",
       "max        999.000000\n",
       "Name: STOP_DURATION_MINUTES, dtype: float64"
      ]
     },
     "execution_count": 25,
     "metadata": {},
     "output_type": "execute_result"
    }
   ],
   "source": [
    "duration.describe()"
   ]
  },
  {
   "cell_type": "code",
   "execution_count": 42,
   "metadata": {},
   "outputs": [
    {
     "data": {
      "text/plain": [
       "0    90\n",
       "1    90\n",
       "2    40\n",
       "3    40\n",
       "4    60\n",
       "Name: STOP_DURATION_MINUTES, dtype: int64"
      ]
     },
     "execution_count": 42,
     "metadata": {},
     "output_type": "execute_result"
    }
   ],
   "source": [
    "duration.head()"
   ]
  },
  {
   "cell_type": "code",
   "execution_count": 27,
   "metadata": {},
   "outputs": [],
   "source": [
    "#outliers: < Q1 – 1.5 IQR or > Q3 + 1.5\n",
    "#IQR=12-5=7  1.5IQR=10.5\n",
    "#outliers>22.5\n"
   ]
  },
  {
   "cell_type": "code",
   "execution_count": 63,
   "metadata": {},
   "outputs": [],
   "source": [
    "#remove outliers\n",
    "cd=df[df['STOP_DURATION_MINUTES']<=22.5]"
   ]
  },
  {
   "cell_type": "code",
   "execution_count": null,
   "metadata": {},
   "outputs": [],
   "source": [
    "cd"
   ]
  },
  {
   "cell_type": "code",
   "execution_count": 76,
   "metadata": {},
   "outputs": [
    {
     "data": {
      "text/plain": [
       "<matplotlib.axes._subplots.AxesSubplot at 0x1a39583d68>"
      ]
     },
     "execution_count": 76,
     "metadata": {},
     "output_type": "execute_result"
    },
    {
     "data": {
      "image/png": "[encoded data removed]",
      "text/plain": [
       "<Figure size 720x360 with 1 Axes>"
      ]
     },
     "metadata": {},
     "output_type": "display_data"
    }
   ],
   "source": [
    "cd.groupby('SUSPECT_RACE_DESCRIPTION')['STOP_DURATION_MINUTES'].count().plot(kind = 'bar', color = 'blue', title = 'Total Stop Duration by Race', figsize = (10, 5))\n"
   ]
  },
  {
   "cell_type": "markdown",
   "metadata": {},
   "source": [
    "3.Explore some variables by the Gender feature. How many frisks were of non-male suspects versus male?\n",
    "\n"
   ]
  },
  {
   "cell_type": "code",
   "execution_count": 106,
   "metadata": {},
   "outputs": [
    {
     "data": {
      "text/plain": [
       "SUSPECT_SEX\n",
       "(null)       84\n",
       "19            1\n",
       "23            1\n",
       "24            1\n",
       "39            1\n",
       "FEMALE      973\n",
       "MALE      10568\n",
       "Name: FRISKED_FLAG, dtype: int64"
      ]
     },
     "execution_count": 106,
     "metadata": {},
     "output_type": "execute_result"
    }
   ],
   "source": [
    "df.groupby('SUSPECT_SEX')['FRISKED_FLAG'].count()"
   ]
  },
  {
   "cell_type": "code",
   "execution_count": 107,
   "metadata": {},
   "outputs": [
    {
     "data": {
      "text/plain": [
       "<matplotlib.axes._subplots.AxesSubplot at 0x1a3ce9bef0>"
      ]
     },
     "execution_count": 107,
     "metadata": {},
     "output_type": "execute_result"
    },
    {
     "data": {
      "image/png": "[encoded data removed]",
      "text/plain": [
       "<Figure size 720x360 with 1 Axes>"
      ]
     },
     "metadata": {},
     "output_type": "display_data"
    }
   ],
   "source": [
    "df.groupby('SUSPECT_SEX')['FRISKED_FLAG'].count().plot(kind = 'bar', color = 'blue', title = 'Flask by Gender', figsize = (10, 5))\n"
   ]
  },
  {
   "cell_type": "code",
   "execution_count": 105,
   "metadata": {},
   "outputs": [
    {
     "data": {
      "text/plain": [
       "SUSPECT_SEX\n",
       "(null)      78\n",
       "19           1\n",
       "23           1\n",
       "24           1\n",
       "39           1\n",
       "FEMALE     869\n",
       "MALE      9665\n",
       "Name: STOP_DURATION_MINUTES, dtype: int64"
      ]
     },
     "execution_count": 105,
     "metadata": {},
     "output_type": "execute_result"
    }
   ],
   "source": [
    "cd.groupby('SUSPECT_SEX')['STOP_DURATION_MINUTES'].count()\n"
   ]
  },
  {
   "cell_type": "code",
   "execution_count": null,
   "metadata": {},
   "outputs": [],
   "source": []
  },
  {
   "cell_type": "markdown",
   "metadata": {},
   "source": [
    "4.What percentage of stops were black males ages 18 - 35?\n",
    "\n"
   ]
  },
  {
   "cell_type": "code",
   "execution_count": 137,
   "metadata": {},
   "outputs": [
    {
     "data": {
      "text/plain": [
       "numpy.int64"
      ]
     },
     "execution_count": 137,
     "metadata": {},
     "output_type": "execute_result"
    }
   ],
   "source": [
    "#convert age column to number\n",
    "for index, row in df.iterrows():\n",
    "    if row['SUSPECT_REPORTED_AGE'] == \"(null)\":\n",
    "        df.loc[index, 'SUSPECT_REPORTED_AGE'] = \"0\"\n",
    "df['SUSPECT_REPORTED_AGE'] = df['SUSPECT_REPORTED_AGE'].astype(\"int64\")\n",
    "type(df['SUSPECT_REPORTED_AGE'][0])"
   ]
  },
  {
   "cell_type": "code",
   "execution_count": 150,
   "metadata": {},
   "outputs": [
    {
     "name": "stdout",
     "output_type": "stream",
     "text": [
      "percentage of stops were black males age 18-35: \n",
      "30.91 %\n"
     ]
    }
   ],
   "source": [
    "bm = df[df['SUSPECT_RACE_DESCRIPTION']=='BLACK'].reset_index(drop=True)\n",
    "bm = bm[bm['SUSPECT_REPORTED_AGE'] >= 18].reset_index(drop=True)\n",
    "bm = bm[bm['SUSPECT_REPORTED_AGE'] <= 35].reset_index(drop=True)\n",
    "print(\"percentage of stops were black males age 18-35: \")\n",
    "print(round(len(bm)/len(df)*100,2),\"%\")"
   ]
  },
  {
   "cell_type": "markdown",
   "metadata": {},
   "source": [
    "\n"
   ]
  },
  {
   "cell_type": "markdown",
   "metadata": {},
   "source": [
    "5.Describe the overall use of physical force in the stops. These are the columns:\n"
   ]
  },
  {
   "cell_type": "code",
   "execution_count": 163,
   "metadata": {},
   "outputs": [
    {
     "data": {
      "text/plain": [
       "count      11629\n",
       "unique         2\n",
       "top       (null)\n",
       "freq       11613\n",
       "Name: PHYSICAL_FORCE_CEW_FLAG, dtype: object"
      ]
     },
     "execution_count": 163,
     "metadata": {},
     "output_type": "execute_result"
    }
   ],
   "source": [
    "df['PHYSICAL_FORCE_CEW_FLAG'].describe()"
   ]
  },
  {
   "cell_type": "code",
   "execution_count": 171,
   "metadata": {},
   "outputs": [],
   "source": [
    "#male=df[df['SUSPECT_SEX']=='male']\n",
    "cew=df[df['PHYSICAL_FORCE_CEW_FLAG']=='Y']"
   ]
  },
  {
   "cell_type": "code",
   "execution_count": 172,
   "metadata": {},
   "outputs": [
    {
     "data": {
      "text/plain": [
       "16"
      ]
     },
     "execution_count": 172,
     "metadata": {},
     "output_type": "execute_result"
    }
   ],
   "source": [
    "len(cew)"
   ]
  },
  {
   "cell_type": "code",
   "execution_count": 164,
   "metadata": {},
   "outputs": [
    {
     "data": {
      "text/plain": [
       "count      11629\n",
       "unique         2\n",
       "top       (null)\n",
       "freq       11166\n",
       "Name: PHYSICAL_FORCE_DRAW_POINT_FIREARM_FLAG, dtype: object"
      ]
     },
     "execution_count": 164,
     "metadata": {},
     "output_type": "execute_result"
    }
   ],
   "source": [
    "df['PHYSICAL_FORCE_DRAW_POINT_FIREARM_FLAG'].describe()"
   ]
  },
  {
   "cell_type": "code",
   "execution_count": 173,
   "metadata": {},
   "outputs": [],
   "source": [
    "FIREARM=df[df['PHYSICAL_FORCE_DRAW_POINT_FIREARM_FLAG']=='Y']"
   ]
  },
  {
   "cell_type": "code",
   "execution_count": 174,
   "metadata": {},
   "outputs": [
    {
     "data": {
      "text/plain": [
       "463"
      ]
     },
     "execution_count": 174,
     "metadata": {},
     "output_type": "execute_result"
    }
   ],
   "source": [
    "len(FIREARM)"
   ]
  },
  {
   "cell_type": "code",
   "execution_count": 170,
   "metadata": {},
   "outputs": [
    {
     "data": {
      "text/plain": [
       "count      11629\n",
       "unique         2\n",
       "top       (null)\n",
       "freq        9708\n",
       "Name: PHYSICAL_FORCE_HANDCUFF_SUSPECT_FLAG, dtype: object"
      ]
     },
     "execution_count": 170,
     "metadata": {},
     "output_type": "execute_result"
    }
   ],
   "source": [
    "df['PHYSICAL_FORCE_HANDCUFF_SUSPECT_FLAG'].describe()"
   ]
  },
  {
   "cell_type": "code",
   "execution_count": 175,
   "metadata": {},
   "outputs": [
    {
     "data": {
      "text/plain": [
       "1921"
      ]
     },
     "execution_count": 175,
     "metadata": {},
     "output_type": "execute_result"
    }
   ],
   "source": [
    "HANDCUFF=df[df['PHYSICAL_FORCE_HANDCUFF_SUSPECT_FLAG']=='Y']\n",
    "len(HANDCUFF)"
   ]
  },
  {
   "cell_type": "code",
   "execution_count": 178,
   "metadata": {},
   "outputs": [
    {
     "data": {
      "text/plain": [
       "3"
      ]
     },
     "execution_count": 178,
     "metadata": {},
     "output_type": "execute_result"
    }
   ],
   "source": [
    "Spray=df[df['PHYSICAL_FORCE_OC_SPRAY_USED_FLAG']=='Y']\n",
    "\n",
    "len(Spray)"
   ]
  },
  {
   "cell_type": "code",
   "execution_count": 179,
   "metadata": {},
   "outputs": [
    {
     "data": {
      "text/plain": [
       "289"
      ]
     },
     "execution_count": 179,
     "metadata": {},
     "output_type": "execute_result"
    }
   ],
   "source": [
    "Other=df[df['PHYSICAL_FORCE_OTHER_FLAG']=='Y']\n",
    "\n",
    "len(Other)"
   ]
  },
  {
   "cell_type": "code",
   "execution_count": 180,
   "metadata": {},
   "outputs": [
    {
     "data": {
      "text/plain": [
       "373"
      ]
     },
     "execution_count": 180,
     "metadata": {},
     "output_type": "execute_result"
    }
   ],
   "source": [
    "RESTRAINT=df[df['PHYSICAL_FORCE_RESTRAINT_USED_FLAG']=='Y']\n",
    "len(RESTRAINT)"
   ]
  },
  {
   "cell_type": "code",
   "execution_count": 181,
   "metadata": {},
   "outputs": [
    {
     "data": {
      "text/plain": [
       "10422"
      ]
     },
     "execution_count": 181,
     "metadata": {},
     "output_type": "execute_result"
    }
   ],
   "source": [
    "Verbal=df[df['PHYSICAL_FORCE_VERBAL_INSTRUCTION_FLAG']=='Y']\n",
    "len(Verbal)"
   ]
  },
  {
   "cell_type": "code",
   "execution_count": 182,
   "metadata": {},
   "outputs": [
    {
     "data": {
      "text/plain": [
       "6"
      ]
     },
     "execution_count": 182,
     "metadata": {},
     "output_type": "execute_result"
    }
   ],
   "source": [
    "\n",
    "Weapon=df[df['PHYSICAL_FORCE_WEAPON_IMPACT_FLAG']=='Y']\n",
    "len(Weapon)\n"
   ]
  },
  {
   "cell_type": "markdown",
   "metadata": {},
   "source": [
    "Verbal instruction is used most frequently(10422), and Spray is used least frequently(3)"
   ]
  },
  {
   "cell_type": "code",
   "execution_count": 199,
   "metadata": {},
   "outputs": [],
   "source": [
    "label=['Cew','Firearm','Handcuff','Spray','Other','Restraint','Verbal','Weapon']\n",
    "frequency=[16,463,1921,3,289,373,10422,6]"
   ]
  },
  {
   "cell_type": "code",
   "execution_count": 203,
   "metadata": {},
   "outputs": [
    {
     "data": {
      "text/plain": [
       "Text(0.5,1,'Overall use of physical force')"
      ]
     },
     "execution_count": 203,
     "metadata": {},
     "output_type": "execute_result"
    },
    {
     "data": {
      "image/png": "[encoded data removed]",
      "text/plain": [
       "<Figure size 432x288 with 1 Axes>"
      ]
     },
     "metadata": {},
     "output_type": "display_data"
    }
   ],
   "source": [
    "index = np.arange(len(label))\n",
    "plt.bar(index, frequency)\n",
    "plt.xlabel('Type of Forces', fontsize=10)\n",
    "plt.ylabel('Frequency', fontsize=10)\n",
    "plt.xticks(index, label, fontsize=10, rotation=30)\n",
    "plt.title('Overall use of physical force')\n",
    "    "
   ]
  },
  {
   "cell_type": "markdown",
   "metadata": {},
   "source": [
    "6.What can you say about the SUSPECT_ARREST_OFFENSE column? Were most people stopped arrested? Were the rates across races similar?"
   ]
  },
  {
   "cell_type": "code",
   "execution_count": 228,
   "metadata": {},
   "outputs": [],
   "source": [
    "#df['SUSPECT_ARREST_OFFENSE']"
   ]
  },
  {
   "cell_type": "code",
   "execution_count": 206,
   "metadata": {},
   "outputs": [
    {
     "data": {
      "text/plain": [
       "count      11629\n",
       "unique        30\n",
       "top       (null)\n",
       "freq        8166\n",
       "Name: SUSPECT_ARREST_OFFENSE, dtype: object"
      ]
     },
     "execution_count": 206,
     "metadata": {},
     "output_type": "execute_result"
    }
   ],
   "source": [
    "df['SUSPECT_ARREST_OFFENSE'].describe()\n"
   ]
  },
  {
   "cell_type": "code",
   "execution_count": 211,
   "metadata": {},
   "outputs": [],
   "source": [
    "#Other=df[df['PHYSICAL_FORCE_OTHER_FLAG']=='Y']\n",
    "\n",
    "not_arrested=df[df['SUSPECT_ARREST_OFFENSE']=='(null)']\n"
   ]
  },
  {
   "cell_type": "code",
   "execution_count": 214,
   "metadata": {},
   "outputs": [
    {
     "data": {
      "text/plain": [
       "0.7022099922607274"
      ]
     },
     "execution_count": 214,
     "metadata": {},
     "output_type": "execute_result"
    }
   ],
   "source": [
    "\n",
    "len(not_arrested)/len(df)"
   ]
  },
  {
   "cell_type": "markdown",
   "metadata": {},
   "source": [
    "70.22% stopped are not arrested"
   ]
  },
  {
   "cell_type": "code",
   "execution_count": 215,
   "metadata": {},
   "outputs": [],
   "source": [
    "arrested=df[df['SUSPECT_ARREST_OFFENSE']!='(null)']"
   ]
  },
  {
   "cell_type": "code",
   "execution_count": 217,
   "metadata": {},
   "outputs": [],
   "source": [
    "#arrested.head()"
   ]
  },
  {
   "cell_type": "code",
   "execution_count": 225,
   "metadata": {},
   "outputs": [
    {
     "data": {
      "text/plain": [
       "SUSPECT_RACE_DESCRIPTION\n",
       "(null)              47\n",
       "ASIAN/PAC.ISL       53\n",
       "BLACK             1861\n",
       "BLACK HISPANIC     310\n",
       "MALE                 2\n",
       "WHITE              337\n",
       "WHITE HISPANIC     853\n",
       "Name: FRISKED_FLAG, dtype: int64"
      ]
     },
     "execution_count": 225,
     "metadata": {},
     "output_type": "execute_result"
    }
   ],
   "source": [
    "arrested.groupby('SUSPECT_RACE_DESCRIPTION')['FRISKED_FLAG'].count()"
   ]
  },
  {
   "cell_type": "code",
   "execution_count": 227,
   "metadata": {},
   "outputs": [
    {
     "data": {
      "text/plain": [
       "<matplotlib.axes._subplots.AxesSubplot at 0x1a3ee15b70>"
      ]
     },
     "execution_count": 227,
     "metadata": {},
     "output_type": "execute_result"
    },
    {
     "data": {
      "image/png": "[encoded data removed]",
      "text/plain": [
       "<Figure size 720x360 with 1 Axes>"
      ]
     },
     "metadata": {},
     "output_type": "display_data"
    }
   ],
   "source": [
    "arrested.groupby('SUSPECT_RACE_DESCRIPTION')['FRISKED_FLAG'].count().plot(kind = 'bar', color = 'blue', title = 'Count of arrests by Race', figsize = (10, 5))"
   ]
  },
  {
   "cell_type": "markdown",
   "metadata": {},
   "source": [
    "7.Identify a publication that used this data to investigate a specific area of interest, or a full summary like the RAND report. Here is a list of information about relevant studies:"
   ]
  },
  {
   "cell_type": "markdown",
   "metadata": {},
   "source": [
    "A:This data was used to in an economic analysis of black-white disparities in the New York Police Department's Stop-and-Frisk program. This paper is published in 2015 by \"The Journal of Legal Studies\".\n",
    " They want to identify two distinct sources of bias in the New York Police Department’s stop-and-frisk program:\"the police officer making the stop decisions and the police chief allocating personnel across precincts.\""
   ]
  },
  {
   "cell_type": "code",
   "execution_count": null,
   "metadata": {},
   "outputs": [],
   "source": []
  }
 ],
 "metadata": {
  "kernelspec": {
   "display_name": "Python 3",
   "language": "python",
   "name": "python3"
  },
  "language_info": {
   "codemirror_mode": {
    "name": "ipython",
    "version": 3
   },
   "file_extension": ".py",
   "mimetype": "text/x-python",
   "name": "python",
   "nbconvert_exporter": "python",
   "pygments_lexer": "ipython3",
   "version": "3.6.5"
  }
 },
 "nbformat": 4,
 "nbformat_minor": 2
}
